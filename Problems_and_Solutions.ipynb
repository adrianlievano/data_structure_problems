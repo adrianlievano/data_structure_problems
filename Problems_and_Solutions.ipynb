{
 "cells": [
  {
   "cell_type": "markdown",
   "metadata": {},
   "source": [
    "### PROBLEM 1: Least Recently Used Cache\n",
    "We have briefly discussed caching as part of a practice problem while studying hash maps.\n",
    "\n",
    "The lookup operation (i.e., get()) and put() / set() is supposed to be fast for a cache memory.\n",
    "\n",
    "While doing the get() operation, if the entry is found in the cache, it is known as a cache hit. If, however, the entry is not found, it is known as a cache miss.\n",
    "\n",
    "When designing a cache, we also place an upper bound on the size of the cache. If the cache is full and we want to add a new entry to the cache, we use some criteria to remove an element. After removing an element, we use the put() operation to insert the new element. The remove operation should also be fast.\n",
    "\n",
    "For our first problem, the goal will be to design a data structure known as a Least Recently Used (LRU) cache. An LRU cache is a type of cache in which we remove the least recently used entry when the cache memory reaches its limit. For the current problem, consider both get and set operations as an use operation.\n",
    "\n",
    "Your job is to use an appropriate data structure(s) to implement the cache.\n",
    "\n",
    "In case of a cache hit, your get() operation should return the appropriate value.\n",
    "In case of a cache miss, your get() should return -1.\n",
    "While putting an element in the cache, your put() / set() operation must insert the element. If the cache is full, you must write code that removes the least recently used entry first and then insert the element.\n",
    "All operations must take O(1) time.\n",
    "\n",
    "For the current problem, you can consider the size of cache = 5.\n",
    "\n",
    "Here is some boiler plate code and some example test cases to get you started on this problem:"
   ]
  },
  {
   "cell_type": "code",
   "execution_count": 47,
   "metadata": {},
   "outputs": [],
   "source": [
    "class Queue:\n",
    "    def __init__(self, initial_size = 5):\n",
    "        self.arr = [0 for _ in range(initial_size)]\n",
    "        self.queue_size = 0\n",
    "        self.front_index = -1\n",
    "        self.next_index = 0\n",
    "    \n",
    "    def enqueue(self, value):\n",
    "        self.arr[self.next_index] = value\n",
    "        self.queue_size += 1\n",
    "        self.next_index = (self.next_index + 1) % len(self.arr)\n",
    "        \n",
    "        if self.front_index == -1:\n",
    "            self.front_index = 0\n",
    "        \n",
    "    def size(self):\n",
    "        return self.queue_size\n",
    "    \n",
    "    def is_empty(self):\n",
    "        return self.size() == 0\n",
    "    \n",
    "    def dequeue(self):\n",
    "        if self.is_empty():\n",
    "            self.front_index = -1\n",
    "            self.next_index = 0\n",
    "            return None\n",
    "        \n",
    "        val = self.arr[self.front_index]\n",
    "        self.queue_size -= 1\n",
    "        self.front_index = (self.front_index + 1) % len(self.arr)\n",
    "        \n",
    "        return val\n",
    "        \n",
    "    "
   ]
  },
  {
   "cell_type": "code",
   "execution_count": 48,
   "metadata": {},
   "outputs": [
    {
     "data": {
      "text/plain": [
       "-1"
      ]
     },
     "execution_count": 48,
     "metadata": {},
     "output_type": "execute_result"
    }
   ],
   "source": [
    "class LRU_Cache(object):\n",
    "\n",
    "    def __init__(self, capacity):\n",
    "        # Initialize class variables\n",
    "        #self.capacity = capacity\n",
    "        self.lru_cache = dict({})\n",
    "        self.lru_queue = Queue(initial_size = capacity)\n",
    "        \n",
    "    def get(self, key):\n",
    "        # Retrieve item from provided key. Return -1 if nonexistent. \n",
    "        if key in self.lru_cache:\n",
    "            self.lru_queue.enqueue(key)\n",
    "            return self.lru_cache[key]\n",
    "        else:\n",
    "            return -1 \n",
    "        \n",
    "    def put(self, key, value):\n",
    "        # Set the value if the key is not present in the cache. If the cache is at capacity remove the oldest item. \n",
    "        if key not in self.lru_cache:\n",
    "            self.lru_cache[key] = value\n",
    "            self.lru_queue.enqueue(key)\n",
    "        \n",
    "        if len(self.lru_cache) >= self.lru_queue.size():\n",
    "                self.remove_least_recently_used_ele(self.lru_cache)\n",
    "                \n",
    "    def remove_least_recently_used_ele(self, Queue):\n",
    "        remove_key = self.lru_queue.dequeue()\n",
    "        self.lru_cache.pop(remove_key)\n",
    "        \n",
    "        \n",
    "\n",
    "our_cache = LRU_Cache(5)\n",
    "\n",
    "our_cache.put(1, 1);\n",
    "our_cache.put(2, 2);\n",
    "our_cache.put(3, 3);\n",
    "our_cache.put(4, 4);\n",
    "\n",
    "\n",
    "our_cache.get(1)       # returns 1\n",
    "our_cache.get(2)       # returns 2\n",
    "our_cache.get(9)      # returns -1 because 9 is not present in the cache\n",
    "\n",
    "our_cache.put(5, 5) \n",
    "our_cache.put(6, 6)\n",
    "\n",
    "our_cache.get(3)      # returns -1 because the cache reached it's capacity and 3 was the least recently used entry"
   ]
  },
  {
   "cell_type": "markdown",
   "metadata": {},
   "source": [
    "### PROBLEM 2: File Recursion \n",
    "\n",
    "\n",
    "For this problem, the goal is to write code for finding all files under a directory (and all directories beneath it) that end with \".c\"\n",
    "\n",
    "Here is an example of a test directory listing, which can be downloaded here:\n",
    "\n",
    "./testdir\n",
    "\n",
    "./testdir/subdir1\n",
    "\n",
    "./testdir/subdir1/a.c\n",
    "\n",
    "./testdir/subdir1/a.h\n",
    "\n",
    "./testdir/subdir2\n",
    "\n",
    "./testdir/subdir2/.gitkeep\n",
    "\n",
    "./testdir/subdir3\n",
    "\n",
    "./testdir/subdir3/subsubdir1\n",
    "\n",
    "./testdir/subdir3/subsubdir1/b.c\n",
    "\n",
    "./testdir/subdir3/subsubdir1/b.h\n",
    "\n",
    "./testdir/subdir4\n",
    "\n",
    "./testdir/subdir4/.gitkeep\n",
    "\n",
    "./testdir/subdir5\n",
    "\n",
    "./testdir/subdir5/a.c\n",
    "\n",
    "./testdir/subdir5/a.h\n",
    "\n",
    "./testdir/t1.c\n",
    "\n",
    "./testdir/t1.h\n",
    "\n",
    "Python's os module will be useful—in particular, you may want to use the following resources:\n",
    "\n",
    "os.path.isdir(path)\n",
    "\n",
    "os.path.isfile(path)\n",
    "\n",
    "os.listdir(directory)\n",
    "\n",
    "os.path.join(...)\n",
    "\n",
    "Note: os.walk() is a handy Python method which can achieve this task very easily. However, for this problem you are not allowed to use os.walk().\n",
    "\n",
    "Here is some code for the function to get you started:"
   ]
  },
  {
   "cell_type": "code",
   "execution_count": 14,
   "metadata": {},
   "outputs": [],
   "source": [
    "def find_files(suffix, path):\n",
    "    \"\"\"\n",
    "    Find all files beneath path with file name suffix.\n",
    "    \n",
    "    Note that a path may contain further subdirectories\n",
    "    and those subdirectories may also contain further subdirectories.\n",
    "\n",
    "    There are no limit to the depth of the subdirectories can be.\n",
    "\n",
    "    Args:\n",
    "      suffix(str): suffix if the file name to be found\n",
    "      path(str): path of the file system\n",
    "\n",
    "    Returns:\n",
    "       a list of paths\n",
    "    \"\"\"\n",
    "    output = []\n",
    "    \n",
    "    for file in os.listdir(path):\n",
    "        #base case\n",
    "        if os.path.isfile(file) and file.endswith(suffix):\n",
    "            output.append(file)\n",
    "            \n",
    "        #inductive step\n",
    "        if os.path.isdir(file):\n",
    "            new_path = os.path.join(path, file)\n",
    "            find_files(suffix, new_path)\n",
    "            \n",
    "    return output"
   ]
  },
  {
   "cell_type": "code",
   "execution_count": 15,
   "metadata": {},
   "outputs": [
    {
     "name": "stdout",
     "output_type": "stream",
     "text": [
      "['Problems_and_Solutions.ipynb', '.ipynb_checkpoints', '.git']\n",
      "False\n",
      "True\n"
     ]
    }
   ],
   "source": [
    "## Locally save and call this file ex.py ##\n",
    "\n",
    "# Code to demonstrate the use of some of the OS modules in python\n",
    "\n",
    "import os\n",
    "\n",
    "# Let us print the files in the directory in which you are running this script\n",
    "print (os.listdir(\".\"))\n",
    "\n",
    "# Let us check if this file is indeed a file!\n",
    "print (os.path.isfile(\"./ex.py\"))\n",
    "\n",
    "# Does the file end with .py?\n",
    "print (\"./ex.py\".endswith(\".py\"))"
   ]
  },
  {
   "cell_type": "code",
   "execution_count": 16,
   "metadata": {},
   "outputs": [
    {
     "data": {
      "text/plain": [
       "'/firstfile'"
      ]
     },
     "execution_count": 16,
     "metadata": {},
     "output_type": "execute_result"
    }
   ],
   "source": [
    "os.path.join('./ex', '/firstfile')\n"
   ]
  },
  {
   "cell_type": "code",
   "execution_count": 20,
   "metadata": {},
   "outputs": [
    {
     "data": {
      "text/plain": [
       "['Problems_and_Solutions.ipynb']"
      ]
     },
     "execution_count": 20,
     "metadata": {},
     "output_type": "execute_result"
    }
   ],
   "source": [
    "find_files('.ipynb', '.' )"
   ]
  },
  {
   "cell_type": "code",
   "execution_count": null,
   "metadata": {},
   "outputs": [],
   "source": []
  }
 ],
 "metadata": {
  "kernelspec": {
   "display_name": "Python 3",
   "language": "python",
   "name": "python3"
  },
  "language_info": {
   "codemirror_mode": {
    "name": "ipython",
    "version": 3
   },
   "file_extension": ".py",
   "mimetype": "text/x-python",
   "name": "python",
   "nbconvert_exporter": "python",
   "pygments_lexer": "ipython3",
   "version": "3.6.4"
  }
 },
 "nbformat": 4,
 "nbformat_minor": 2
}
